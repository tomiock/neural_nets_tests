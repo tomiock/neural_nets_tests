{
  "metadata":{
    "kernelspec":{
      "display_name":"Python 3",
      "name":"python3",
      "language":"python"
    }
  },
  "nbformat":4,
  "cells":[{
      "metadata":{
      },
      "id":"nil",
      "outputs":[],
      "cell_type":"code",
      "execution_count":0,
      "source":["class Interval(object):\n","    def __init__(self, lo, hi):\n","        self.lo = lo\n","        self.hi = hi\n","\n","    def __repr__(self) -> str:\n","        return f\"Interval({self.lo}, {self.hi})\"\n","\n","    @property\n","    def width(self):\n","        return self.hi - self.lo"]
    },{
      "metadata":{
      },
      "id":"1abec0a5-fc27-44f7-a153-55a353e30db8",
      "outputs":[],
      "cell_type":"code",
      "execution_count":0,
      "source":["from numba import types\n","\n","class IntervalType(types.Type):\n","    def __init__(self):\n","        super(IntervalType, self).__init__(name='Interval')"]
    },{
      "metadata":{
      },
      "id":"8e3deea9-6064-442c-bf16-59775a3efd30",
      "outputs":[],
      "cell_type":"code",
      "execution_count":0,
      "source":["from numba.extending import typeof_impl\n","\n","@typeof_impl.register(Interval)\n","def typeof_index(val, c):\n","    return IntervalType()"]
    },{
      "metadata":{
      },
      "id":"4e8c91fb-5b92-4194-8315-573b9e4fec40",
      "outputs":[],
      "cell_type":"code",
      "execution_count":0,
      "source":["from numba.extending import as_numba_type\n","\n","as_numba_type.register(Interval, IntervalType())"]
    },{
      "metadata":{
      },
      "id":"74ea0d3f-8e0d-4bf7-b130-4a6aec59bc13",
      "outputs":[],
      "cell_type":"code",
      "execution_count":0,
      "source":["from numba.extending import type_callable, make_attribute_wrapper, overload_attribute, lower_builtin, unbox, NativeValue, unbox, box\n","from numba.extending import models, register_model\n","from numba.core import cgutils\n","from contextlib import ExitStack\n","\n","@type_callable(Interval)\n","def type_interval(context):\n","    def typer(lo, hi):\n","        if isinstance(lo, types.Float) and isinstance(hi, types.Float):\n","            return IntervalType()\n","    return typer\n","\n","\n","@register_model(IntervalType)\n","class IntervalModel(models.StructModel):\n","    def __init__(self, dmm, fe_type):\n","        members = [('lo', types.float64),\n","                   ('hi', types.float64),]\n","        models.StructModel.__init__(self, dmm, fe_type, members)\n","\n","\n","make_attribute_wrapper(IntervalType, 'lo', 'lo')\n","make_attribute_wrapper(IntervalType, 'hi', 'hi')\n","\n","\n","@overload_attribute(IntervalType, \"width\")\n","def get_width(interval):\n","    def getter(interval):\n","        return interval.hi - interval.lo\n","    return getter\n","\n","@lower_builtin(Interval, types.Float, types.Float)\n","def impl_interval(context, builder, sig, args):\n","    typ = sig.return_type\n","    lo, hi = args\n","    interval = cgutils.create_struct_proxy(typ)(context, builder)\n","    interval.lo = lo\n","    interval.hi = hi\n","    return interval._getvalue()\n","\n","@unbox(IntervalType)\n","def unbox_interval(typ, obj, c):\n","    \"\"\"\n","    Convert a Interval object to a native interval structure.\n","    \"\"\"\n","    is_error_ptr = cgutils.alloca_once_value(c.builder, cgutils.false_bit)\n","    interval = cgutils.create_struct_proxy(typ)(c.context, c.builder)\n","\n","    with ExitStack() as stack:\n","        lo_obj = c.pyapi.object_getattr_string(obj, \"lo\")\n","        with cgutils.early_exit_if_null(c.builder, stack, lo_obj):\n","            c.builder.store(cgutils.true_bit, is_error_ptr)\n","        lo_native = c.unbox(types.float64, lo_obj)\n","        c.pyapi.decref(lo_obj)\n","        with cgutils.early_exit_if(c.builder, stack, lo_native.is_error):\n","            c.builder.store(cgutils.true_bit, is_error_ptr)\n","\n","        hi_obj = c.pyapi.object_getattr_string(obj, \"hi\")\n","        with cgutils.early_exit_if_null(c.builder, stack, hi_obj):\n","            c.builder.store(cgutils.true_bit, is_error_ptr)\n","        hi_native = c.unbox(types.float64, hi_obj)\n","        c.pyapi.decref(hi_obj)\n","        with cgutils.early_exit_if(c.builder, stack, hi_native.is_error):\n","            c.builder.store(cgutils.true_bit, is_error_ptr)\n","\n","        interval.lo = lo_native.value\n","        interval.hi = hi_native.value\n","\n","    return NativeValue(interval._getvalue(), is_error=c.builder.load(is_error_ptr))\n","\n","@box(IntervalType)\n","def box_interval(typ, val, c):\n","    \"\"\"\n","    Convert a native interval structure to an Interval object.\n","    \"\"\"\n","    ret_ptr = cgutils.alloca_once(c.builder, c.pyapi.pyobj)\n","    fail_obj = c.pyapi.get_null_object()\n","\n","    with ExitStack() as stack:\n","        interval = cgutils.create_struct_proxy(typ)(c.context, c.builder, value=val)\n","        lo_obj = c.box(types.float64, interval.lo)\n","        with cgutils.early_exit_if_null(c.builder, stack, lo_obj):\n","            c.builder.store(fail_obj, ret_ptr)\n","\n","        hi_obj = c.box(types.float64, interval.hi)\n","        with cgutils.early_exit_if_null(c.builder, stack, hi_obj):\n","            c.pyapi.decref(lo_obj)\n","            c.builder.store(fail_obj, ret_ptr)\n","\n","        class_obj = c.pyapi.unserialize(c.pyapi.serialize_object(Interval))\n","        with cgutils.early_exit_if_null(c.builder, stack, class_obj):\n","            c.pyapi.decref(lo_obj)\n","            c.pyapi.decref(hi_obj)\n","            c.builder.store(fail_obj, ret_ptr)\n","\n","        # NOTE: The result of this call is not checked as the clean up\n","        # has to occur regardless of whether it is successful. If it\n","        # fails `res` is set to NULL and a Python exception is set.\n","        res = c.pyapi.call_function_objargs(class_obj, (lo_obj, hi_obj))\n","        c.pyapi.decref(lo_obj)\n","        c.pyapi.decref(hi_obj)\n","        c.pyapi.decref(class_obj)\n","        c.builder.store(res, ret_ptr)\n","\n","    return c.builder.load(ret_ptr)"]
    },{
      "metadata":{
      },
      "id":"c405c90c-e5fb-40e6-8bc9-317239cd1fe6",
      "outputs":[],
      "cell_type":"code",
      "execution_count":0,
      "source":["\n","from numba import njit\n","\n","@njit\n","def mul(interval: Interval):\n","    return interval.hi * interval.lo\n","\n","@njit\n","def inside_interval(interval, x):\n","    return interval.lo <= x < interval.hi\n","\n","@njit\n","def interval_width(interval):\n","    return interval.width\n","\n","@njit\n","def sum_intervals(i, j):\n","    return Interval(i.lo + j.lo, i.hi + j.hi)\n","\n","\n","int1 = Interval(1, 5)\n","int2 = Interval(2, 5)\n","sum_ = sum_intervals(int1, int2)\n","sum_"]
    }],
  "nbformat_minor":5
}